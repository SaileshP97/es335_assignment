{
 "cells": [
  {
   "cell_type": "markdown",
   "metadata": {},
   "source": [
    "# Notebook to demonstrate Zero shot and Few shot Learning"
   ]
  },
  {
   "cell_type": "code",
   "execution_count": 6,
   "metadata": {},
   "outputs": [],
   "source": [
    "import os\n",
    "import dotenv\n",
    "\n",
    "import pandas as pd \n",
    "from langchain_groq.chat_models import ChatGroq\n",
    "\n",
    "from MakeDataset import get_data"
   ]
  },
  {
   "cell_type": "code",
   "execution_count": 2,
   "metadata": {},
   "outputs": [],
   "source": [
    "dotenv.load_dotenv()\n",
    "# Groq API and Models \n",
    "Groq_Token = os.environ.get(\"GROQ_API_KEY\")  # Do not share this key with anyone\n",
    "\n",
    "groq_models = {\"llama3-70b\": \"llama3-70b-8192\", \"mixtral\": \"mixtral-8x7b-32768\", \"gemma-7b\": \"gemma-7b-it\",\"llama3.1-70b\":\"llama-3.1-70b-versatile\",\"llama3-8b\":\"llama3-8b-8192\",\"llama3.1-8b\":\"llama-3.1-8b-instant\",\"gemma-9b\":\"gemma2-9b-it\"}"
   ]
  },
  {
   "cell_type": "markdown",
   "metadata": {},
   "source": [
    "**NOTE : DO NOT SHARE THE API KEY WITH ANYONE. DO NOT COMMIT THE API KEY TO GITHUB.**\n",
    "\n",
    "Always do a sanity check before committing the code to github. If the key is found in the code, you will be penalized with a 0.5 marks deduction."
   ]
  },
  {
   "cell_type": "code",
   "execution_count": 16,
   "metadata": {},
   "outputs": [],
   "source": [
    "X_train,_,y_train,_ = get_data()"
   ]
  },
  {
   "cell_type": "markdown",
   "metadata": {},
   "source": [
    "# Zero Shot "
   ]
  },
  {
   "cell_type": "code",
   "execution_count": 25,
   "metadata": {},
   "outputs": [],
   "source": [
    "def zero_shot(X, y):\n",
    "    \n",
    "    Data = str(X)\n",
    "\n",
    "    # System Prompts \n",
    "    query = f\"\"\"\n",
    "    * You are a Human Actitvity detection model. \n",
    "    * Your task is to classifiy the movement into 6 category WALKING - 1,\n",
    "    CLIMBING UP THE STAIRS - 2, CLIMBING DOWN THE STAIRS - 3, SITTING - 4, STANDING - 5, LAYING - 6 . \n",
    "    * You will be provided time series sensor data that will have data for three point x, y, z.\n",
    "    * x will tell about movement in x-axis and so on.\n",
    "    * As it is time series data the data will be of length 500 making the array of shape (500,3).\n",
    "    * Just print 'The above movement is of class x.'\n",
    "\n",
    "    Data: {Data}\n",
    "    \"\"\" \n",
    "\n",
    "    # To use Groq LLMs \n",
    "    model_name = \"llama3-70b\" # We can choose any model from the groq_models dictionary\n",
    "    llm = ChatGroq(model=groq_models[model_name], api_key=Groq_Token, temperature=0)\n",
    "    answer = llm.invoke(query)\n",
    "\n",
    "    print(answer.content)\n",
    "\n",
    "    print(f\"Actuall Label is {y}\\n\")"
   ]
  },
  {
   "cell_type": "code",
   "execution_count": 26,
   "metadata": {},
   "outputs": [
    {
     "name": "stdout",
     "output_type": "stream",
     "text": [
      "********************\n",
      "The above movement is of class 1.\n",
      "Actuall Label is 1\n",
      "\n",
      "********************\n",
      "The above movement is of class 1.\n",
      "Actuall Label is 2\n",
      "\n",
      "********************\n",
      "The above movement is of class 2.\n",
      "Actuall Label is 3\n",
      "\n",
      "********************\n",
      "Based on the provided time series sensor data, I will classify the movement into one of the 6 categories.\n",
      "\n",
      "After analyzing the data, I conclude that:\n",
      "\n",
      "The above movement is of class 2.\n",
      "Actuall Label is 4\n",
      "\n",
      "********************\n",
      "The above movement is of class 1.\n",
      "Actuall Label is 5\n",
      "\n",
      "********************\n",
      "Based on the provided time series sensor data, I will classify the movement into one of the 6 categories.\n",
      "\n",
      "After analyzing the data, I conclude that:\n",
      "\n",
      "The above movement is of class 1.\n",
      "Actuall Label is 6\n",
      "\n"
     ]
    }
   ],
   "source": [
    "labels = [6,0,16,9,2,1]\n",
    "\n",
    "for i in labels:\n",
    "    print(\"*\"*20)\n",
    "    zero_shot(X_train[i], y_train[i])\n"
   ]
  },
  {
   "cell_type": "markdown",
   "metadata": {},
   "source": [
    "# Few Shot"
   ]
  },
  {
   "cell_type": "code",
   "execution_count": 29,
   "metadata": {},
   "outputs": [],
   "source": [
    "def few_shot(X_train, y_train, pos):\n",
    "\n",
    "    # System Prompts \n",
    "    query = f\"\"\"\n",
    "        * You are a Human Actitvity detection model. \n",
    "        * Your task is to classifiy the movement into 6 category WALKING - 1,\n",
    "        CLIMBING UP THE STAIRS - 2, CLIMBING DOWN THE STAIRS - 3, SITTING - 4, STANDING - 5, LAYING - 6 . \n",
    "        * You will be provided time series sensor data that will have data for three point x, y, z.\n",
    "        * x will tell about movement in x-axis and so on.\n",
    "        * As it is time series data the data will be of length 500 making the array of shape (500,3).\n",
    "        * Just print 'The above movement is of class x.'\n",
    "\n",
    "        Here are some example:\n",
    "        1. {X_train[3]}: output: The above movement is of class 2\n",
    "        2. {X_train[7]}: output: The above movement is of class 1\n",
    "        3. {X_train[18]}: output: The above movement is of class 3\n",
    "        4. {X_train[11]}: output: The above movement is of class 4\n",
    "        5. {X_train[8]}: output: The above movement is of class 5\n",
    "        6. {X_train[14]}: output: The above movement is of class 6\n",
    "\n",
    "    Sentence: {X_train[pos]}\n",
    "    \"\"\" \n",
    "\n",
    "    # To use Groq LLMs \n",
    "    model_name = \"llama3-70b\" # We can choose any model from the groq_models dictionary\n",
    "    llm = ChatGroq(model=groq_models[model_name], api_key=Groq_Token, temperature=0)\n",
    "    answer = llm.invoke(query)\n",
    "\n",
    "    print(answer.content)\n",
    "    print(f\"Actuall Label is {y_train[pos]}\\n\")"
   ]
  },
  {
   "cell_type": "code",
   "execution_count": 30,
   "metadata": {},
   "outputs": [
    {
     "name": "stdout",
     "output_type": "stream",
     "text": [
      "********************\n",
      "The above movement is of class 1.\n",
      "Actuall Label is 1\n",
      "\n",
      "********************\n",
      "The above movement is of class 2.\n",
      "Actuall Label is 2\n",
      "\n",
      "********************\n",
      "The above movement is of class 2.\n",
      "Actuall Label is 3\n",
      "\n",
      "********************\n",
      "The above movement is of class 4.\n",
      "Actuall Label is 4\n",
      "\n",
      "********************\n",
      "The above movement is of class 5.\n",
      "Actuall Label is 5\n",
      "\n",
      "********************\n",
      "The above movement is of class 6.\n",
      "Actuall Label is 6\n",
      "\n"
     ]
    }
   ],
   "source": [
    "labels = [6,0,16,9,2,1]\n",
    "\n",
    "for i in labels:\n",
    "    print(\"*\"*20)\n",
    "    few_shot(X_train, y_train, i)\n"
   ]
  }
 ],
 "metadata": {
  "kernelspec": {
   "display_name": "Python 3",
   "language": "python",
   "name": "python3"
  },
  "language_info": {
   "codemirror_mode": {
    "name": "ipython",
    "version": 3
   },
   "file_extension": ".py",
   "mimetype": "text/x-python",
   "name": "python",
   "nbconvert_exporter": "python",
   "pygments_lexer": "ipython3",
   "version": "3.9.6"
  }
 },
 "nbformat": 4,
 "nbformat_minor": 2
}
